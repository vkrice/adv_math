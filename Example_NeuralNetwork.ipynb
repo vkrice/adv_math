{
 "cells": [
  {
   "cell_type": "code",
   "execution_count": 1,
   "metadata": {
    "scrolled": true
   },
   "outputs": [
    {
     "name": "stdout",
     "output_type": "stream",
     "text": [
      "---------------------- SCIANN 0.6.0.3 ---------------------- \n",
      "For details, check out our review paper and the documentation at: \n",
      " +  \"https://arxiv.org/abs/2005.08803\", \n",
      " +  \"https://www.sciann.com\". \n",
      "\n"
     ]
    },
    {
     "data": {
      "text/plain": [
       "[<matplotlib.lines.Line2D at 0x18b27b3a4c0>]"
      ]
     },
     "execution_count": 1,
     "metadata": {},
     "output_type": "execute_result"
    },
    {
     "data": {
      "image/png": "[encoded data removed]",
      "text/plain": [
       "<Figure size 432x288 with 1 Axes>"
      ]
     },
     "metadata": {
      "needs_background": "light"
     },
     "output_type": "display_data"
    }
   ],
   "source": [
    "# https://www.sciann.com/examples/example-fitting-1d/\n",
    "import numpy as np\n",
    "from sciann import Variable, Functional, SciModel, Parameter\n",
    "from sciann.constraints import Data, MinMax\n",
    "from sciann.utils.math import diff\n",
    "import sciann as sn\n",
    "import matplotlib.pyplot as plt\n",
    "\n",
    "sn.set_random_seed(1234)\n",
    "# Synthetic data generated from sin function over [0, 2pi]\n",
    "x_true = np.linspace(0, np.pi*2, 10000)\n",
    "y_true = np.sin(x_true)\n",
    "\n",
    "# The network inputs should be defined with Variable.\n",
    "x = Variable('x', dtype='float64')\n",
    "\n",
    "# Each network is defined by Functional.\n",
    "y = Functional('y', x, [10, 10, 10], activation='l-tanh', res_net=True)\n",
    "\n",
    "d = Parameter(10.0, inputs=x, name='d')\n",
    "\n",
    "# Define the target (output) of your model.\n",
    "c1 = Data(y)\n",
    "\n",
    "L = d*diff(y, x, order=2) + y\n",
    "\n",
    "# The model is formed with input `x` and condition `c1`.\n",
    "model = SciModel(x, [c1, sn.PDE(L)])\n",
    "\n",
    "plt.plot(x_true,y_true)"
   ]
  },
  {
   "cell_type": "code",
   "execution_count": null,
   "metadata": {},
   "outputs": [],
   "source": []
  },
  {
   "cell_type": "code",
   "execution_count": 2,
   "metadata": {},
   "outputs": [
    {
     "name": "stdout",
     "output_type": "stream",
     "text": [
      "Train on 10000 samples\n",
      "\n",
      "+ adaptive_weights at epoch 1: [6.59307568657169, 1.1787925027370685]\n",
      "Epoch 1/100\n",
      "10000/10000 [==============================] - 1s 62us/sample - loss: 1.7118 - y_loss: 0.2405 - add_loss: 0.1062\n",
      "Epoch 2/100\n",
      "10000/10000 [==============================] - 1s 62us/sample - loss: 1.1287 - y_loss: 0.1658 - add_loss: 0.0312\n",
      "Epoch 3/100\n",
      "10000/10000 [==============================] - 1s 61us/sample - loss: 1.1219 - y_loss: 0.1649 - add_loss: 0.0296\n",
      "Epoch 4/100\n",
      "10000/10000 [==============================] - 1s 59us/sample - loss: 1.1139 - y_loss: 0.1636 - add_loss: 0.0297\n",
      "Epoch 5/100\n",
      "10000/10000 [==============================] - 1s 65us/sample - loss: 1.1071 - y_loss: 0.1626 - add_loss: 0.0304\n",
      "Epoch 6/100\n",
      "10000/10000 [==============================] - 1s 63us/sample - loss: 1.0944 - y_loss: 0.1602 - add_loss: 0.0322\n",
      "Epoch 7/100\n",
      "10000/10000 [==============================] - 1s 63us/sample - loss: 1.0860 - y_loss: 0.1585 - add_loss: 0.0345\n",
      "Epoch 8/100\n",
      "10000/10000 [==============================] - 1s 62us/sample - loss: 1.0748 - y_loss: 0.1564 - add_loss: 0.0371\n",
      "Epoch 9/100\n",
      "10000/10000 [==============================] - 1s 61us/sample - loss: 1.0584 - y_loss: 0.1533 - add_loss: 0.0400\n",
      "Epoch 10/100\n",
      "10000/10000 [==============================] - 1s 60us/sample - loss: 1.0440 - y_loss: 0.1506 - add_loss: 0.0426\n",
      "Epoch 11/100\n",
      "10000/10000 [==============================] - 1s 61us/sample - loss: 1.0249 - y_loss: 0.1469 - add_loss: 0.0475\n",
      "Epoch 12/100\n",
      "10000/10000 [==============================] - 1s 64us/sample - loss: 1.0095 - y_loss: 0.1438 - add_loss: 0.0525\n",
      "Epoch 13/100\n",
      "10000/10000 [==============================] - 1s 60us/sample - loss: 0.9805 - y_loss: 0.1386 - add_loss: 0.0572\n",
      "Epoch 14/100\n",
      "10000/10000 [==============================] - 1s 60us/sample - loss: 0.9498 - y_loss: 0.1324 - add_loss: 0.0652\n",
      "Epoch 15/100\n",
      "10000/10000 [==============================] - 1s 61us/sample - loss: 0.9178 - y_loss: 0.1261 - add_loss: 0.0732\n",
      "Epoch 16/100\n",
      "10000/10000 [==============================] - 1s 68us/sample - loss: 0.8732 - y_loss: 0.1180 - add_loss: 0.0810\n",
      "Epoch 17/100\n",
      "10000/10000 [==============================] - 1s 66us/sample - loss: 0.8154 - y_loss: 0.1071 - add_loss: 0.0927\n",
      "Epoch 18/100\n",
      "10000/10000 [==============================] - 1s 69us/sample - loss: 0.7468 - y_loss: 0.0952 - add_loss: 0.1006\n",
      "Epoch 19/100\n",
      "10000/10000 [==============================] - 1s 65us/sample - loss: 0.6576 - y_loss: 0.0797 - add_loss: 0.1121\n",
      "Epoch 20/100\n",
      "10000/10000 [==============================] - 1s 69us/sample - loss: 0.5401 - y_loss: 0.0608 - add_loss: 0.1182\n",
      "Epoch 21/100\n",
      "10000/10000 [==============================] - 1s 77us/sample - loss: 0.3982 - y_loss: 0.0404 - add_loss: 0.1118\n",
      "Epoch 22/100\n",
      "10000/10000 [==============================] - 1s 72us/sample - loss: 0.2384 - y_loss: 0.0203 - add_loss: 0.0884\n",
      "Epoch 23/100\n",
      "10000/10000 [==============================] - 1s 62us/sample - loss: 0.0978 - y_loss: 0.0064 - add_loss: 0.0472\n",
      "Epoch 24/100\n",
      "10000/10000 [==============================] - 1s 67us/sample - loss: 0.0230 - y_loss: 0.0011 - add_loss: 0.0133\n",
      "Epoch 25/100\n",
      "10000/10000 [==============================] - 1s 62us/sample - loss: 0.0031 - y_loss: 1.0972e-04 - add_loss: 0.0020\n",
      "Epoch 26/100\n",
      "10000/10000 [==============================] - 1s 61us/sample - loss: 3.3880e-04 - y_loss: 8.0898e-06 - add_loss: 2.4180e-04\n",
      "Epoch 27/100\n",
      "10000/10000 [==============================] - 1s 63us/sample - loss: 1.1205e-04 - y_loss: 6.5986e-07 - add_loss: 9.1359e-05\n",
      "Epoch 28/100\n",
      "10000/10000 [==============================] - 1s 62us/sample - loss: 8.4741e-05 - y_loss: 2.2741e-07 - add_loss: 7.0574e-05\n",
      "Epoch 29/100\n",
      "10000/10000 [==============================] - 1s 63us/sample - loss: 7.2209e-05 - y_loss: 2.6300e-07 - add_loss: 5.9825e-05\n",
      "Epoch 30/100\n",
      "10000/10000 [==============================] - 1s 61us/sample - loss: 6.0533e-05 - y_loss: 2.4674e-07 - add_loss: 4.9926e-05\n",
      "Epoch 31/100\n",
      "10000/10000 [==============================] - 1s 65us/sample - loss: 5.2408e-05 - y_loss: 2.9291e-07 - add_loss: 4.2788e-05\n",
      "Epoch 32/100\n",
      "10000/10000 [==============================] - 1s 65us/sample - loss: 4.5142e-05 - y_loss: 2.3130e-07 - add_loss: 3.6974e-05\n",
      "Epoch 33/100\n",
      "10000/10000 [==============================] - 1s 65us/sample - loss: 3.9882e-05 - y_loss: 2.9744e-07 - add_loss: 3.2153e-05\n",
      "Epoch 34/100\n",
      "10000/10000 [==============================] - 1s 63us/sample - loss: 3.6519e-05 - y_loss: 4.6478e-07 - add_loss: 2.8355e-05\n",
      "Epoch 35/100\n",
      "10000/10000 [==============================] - 1s 64us/sample - loss: 3.3058e-05 - y_loss: 5.5746e-07 - add_loss: 2.4912e-05\n",
      "Epoch 36/100\n",
      "10000/10000 [==============================] - 1s 66us/sample - loss: 4.0911e-05 - y_loss: 2.0494e-06 - add_loss: 2.3232e-05\n",
      "Epoch 37/100\n",
      "10000/10000 [==============================] - 1s 63us/sample - loss: 4.1855e-05 - y_loss: 2.6307e-06 - add_loss: 2.0760e-05\n",
      "Epoch 38/100\n",
      "10000/10000 [==============================] - 1s 61us/sample - loss: 2.4303e-05 - y_loss: 5.9651e-07 - add_loss: 1.7286e-05\n",
      "Epoch 39/100\n",
      "10000/10000 [==============================] - 1s 63us/sample - loss: 3.2859e-05 - y_loss: 2.0521e-06 - add_loss: 1.6392e-05\n",
      "Epoch 40/100\n",
      "10000/10000 [==============================] - 1s 61us/sample - loss: 2.2194e-04 - y_loss: 2.7411e-05 - add_loss: 3.4700e-05\n",
      "Epoch 41/100\n",
      "10000/10000 [==============================] - 1s 60us/sample - loss: 4.1246e-05 - y_loss: 3.4280e-06 - add_loss: 1.5894e-05\n",
      "Epoch 42/100\n",
      "10000/10000 [==============================] - 1s 65us/sample - loss: 9.6504e-05 - y_loss: 1.1011e-05 - add_loss: 2.0171e-05\n",
      "Epoch 43/100\n",
      "10000/10000 [==============================] - 1s 74us/sample - loss: 1.0026e-04 - y_loss: 1.1677e-05 - add_loss: 1.9638e-05\n",
      "Epoch 44/100\n",
      "10000/10000 [==============================] - 1s 65us/sample - loss: 1.9993e-05 - y_loss: 9.9505e-07 - add_loss: 1.1395e-05\n",
      "Epoch 45/100\n",
      "10000/10000 [==============================] - 1s 63us/sample - loss: 7.9938e-05 - y_loss: 9.1441e-06 - add_loss: 1.6571e-05\n",
      "Epoch 46/100\n",
      "10000/10000 [==============================] - 1s 63us/sample - loss: 1.2695e-04 - y_loss: 1.5236e-05 - add_loss: 2.2326e-05\n",
      "Epoch 47/100\n",
      "10000/10000 [==============================] - 1s 64us/sample - loss: 1.7837e-05 - y_loss: 5.6875e-07 - add_loss: 1.1960e-05\n",
      "Epoch 48/100\n",
      "10000/10000 [==============================] - 1s 64us/sample - loss: 4.6165e-05 - y_loss: 4.9080e-06 - add_loss: 1.1666e-05\n",
      "Epoch 49/100\n",
      "10000/10000 [==============================] - 1s 61us/sample - loss: 7.0428e-05 - y_loss: 8.1370e-06 - add_loss: 1.4388e-05\n",
      "Epoch 50/100\n",
      "10000/10000 [==============================] - 1s 71us/sample - loss: 2.6469e-04 - y_loss: 3.3532e-05 - add_loss: 3.6659e-05\n",
      "Epoch 51/100\n",
      "10000/10000 [==============================] - 1s 61us/sample - loss: 1.0784e-05 - y_loss: 2.3951e-07 - add_loss: 7.8318e-06\n",
      "Epoch 52/100\n",
      "10000/10000 [==============================] - 1s 61us/sample - loss: 1.3990e-04 - y_loss: 1.7365e-05 - add_loss: 2.1390e-05\n",
      "Epoch 53/100\n",
      "10000/10000 [==============================] - 1s 65us/sample - loss: 5.2919e-05 - y_loss: 5.9508e-06 - add_loss: 1.1550e-05\n",
      "Epoch 54/100\n",
      "10000/10000 [==============================] - 1s 68us/sample - loss: 1.9996e-05 - y_loss: 6.8062e-07 - add_loss: 1.3138e-05\n",
      "Epoch 55/100\n",
      "10000/10000 [==============================] - 1s 65us/sample - loss: 2.2616e-04 - y_loss: 2.8710e-05 - add_loss: 3.0978e-05\n",
      "Epoch 56/100\n",
      "10000/10000 [==============================] - 1s 62us/sample - loss: 9.1684e-06 - y_loss: 3.1795e-07 - add_loss: 5.9938e-06\n",
      "Epoch 57/100\n",
      "10000/10000 [==============================] - 1s 61us/sample - loss: 1.1284e-05 - y_loss: 5.7474e-07 - add_loss: 6.3682e-06\n",
      "Epoch 58/100\n",
      "10000/10000 [==============================] - 1s 64us/sample - loss: 1.3392e-04 - y_loss: 1.7190e-05 - add_loss: 1.7305e-05\n",
      "Epoch 59/100\n",
      "10000/10000 [==============================] - 1s 63us/sample - loss: 1.5649e-05 - y_loss: 1.3085e-06 - add_loss: 5.9399e-06\n",
      "Epoch 60/100\n",
      "10000/10000 [==============================] - 1s 62us/sample - loss: 1.8427e-05 - y_loss: 1.7266e-06 - add_loss: 5.9746e-06\n",
      "Epoch 61/100\n"
     ]
    },
    {
     "name": "stdout",
     "output_type": "stream",
     "text": [
      "10000/10000 [==============================] - 1s 61us/sample - loss: 5.2625e-04 - y_loss: 6.8957e-05 - add_loss: 6.0058e-05\n",
      "Epoch 62/100\n",
      "10000/10000 [==============================] - 1s 60us/sample - loss: 6.4213e-06 - y_loss: 1.0024e-07 - add_loss: 4.8859e-06\n",
      "Epoch 63/100\n",
      "10000/10000 [==============================] - 1s 62us/sample - loss: 6.6936e-06 - y_loss: 1.1636e-07 - add_loss: 5.0260e-06\n",
      "Epoch 64/100\n",
      "10000/10000 [==============================] - 1s 62us/sample - loss: 9.0544e-06 - y_loss: 4.6752e-07 - add_loss: 5.0668e-06\n",
      "Epoch 65/100\n",
      "10000/10000 [==============================] - 1s 61us/sample - loss: 7.8186e-05 - y_loss: 9.6259e-06 - add_loss: 1.2786e-05\n",
      "Epoch 66/100\n",
      "10000/10000 [==============================] - 1s 62us/sample - loss: 1.3588e-04 - y_loss: 1.6991e-05 - add_loss: 2.0067e-05\n",
      "Epoch 67/100\n",
      "10000/10000 [==============================] - 1s 61us/sample - loss: 7.0321e-05 - y_loss: 8.1604e-06 - add_loss: 1.3925e-05\n",
      "Epoch 68/100\n",
      "10000/10000 [==============================] - 1s 70us/sample - loss: 2.3954e-05 - y_loss: 2.7031e-06 - add_loss: 5.2748e-06\n",
      "Epoch 69/100\n",
      "10000/10000 [==============================] - 1s 67us/sample - loss: 5.2061e-04 - y_loss: 6.9038e-05 - add_loss: 5.4816e-05\n",
      "Epoch 70/100\n",
      "10000/10000 [==============================] - 1s 71us/sample - loss: 5.2308e-06 - y_loss: 1.0477e-07 - add_loss: 3.8479e-06\n",
      "Epoch 71/100\n",
      "10000/10000 [==============================] - 1s 69us/sample - loss: 5.2429e-06 - y_loss: 1.1509e-07 - add_loss: 3.8008e-06\n",
      "Epoch 72/100\n",
      "10000/10000 [==============================] - 1s 65us/sample - loss: 1.2439e-05 - y_loss: 3.1943e-07 - add_loss: 8.7614e-06\n",
      "Epoch 73/100\n",
      "10000/10000 [==============================] - 1s 65us/sample - loss: 2.4724e-05 - y_loss: 2.7782e-06 - add_loss: 5.4294e-06\n",
      "Epoch 74/100\n",
      "10000/10000 [==============================] - 1s 65us/sample - loss: 1.6542e-04 - y_loss: 2.1754e-05 - add_loss: 1.8443e-05\n",
      "Epoch 75/100\n",
      "10000/10000 [==============================] - 1s 64us/sample - loss: 4.9895e-06 - y_loss: 1.3899e-07 - add_loss: 3.4542e-06\n",
      "Epoch 76/100\n",
      "10000/10000 [==============================] - 1s 64us/sample - loss: 6.8833e-05 - y_loss: 8.6810e-06 - add_loss: 9.7648e-06\n",
      "Epoch 77/100\n",
      "10000/10000 [==============================] - 1s 65us/sample - loss: 5.5156e-06 - y_loss: 3.1750e-07 - add_loss: 3.0318e-06\n",
      "Epoch 78/100\n",
      "10000/10000 [==============================] - 1s 63us/sample - loss: 0.0010 - y_loss: 1.3694e-04 - add_loss: 1.1280e-04\n",
      "Epoch 79/100\n",
      "10000/10000 [==============================] - 1s 64us/sample - loss: 4.4150e-06 - y_loss: 3.6982e-08 - add_loss: 3.5368e-06\n",
      "Epoch 80/100\n",
      "10000/10000 [==============================] - 1s 62us/sample - loss: 6.0909e-06 - y_loss: 8.6489e-08 - add_loss: 4.6809e-06\n",
      "Epoch 81/100\n",
      "10000/10000 [==============================] - 1s 63us/sample - loss: 4.0778e-06 - y_loss: 8.5299e-08 - add_loss: 2.9795e-06\n",
      "Epoch 82/100\n",
      "10000/10000 [==============================] - 1s 63us/sample - loss: 4.7255e-06 - y_loss: 1.3488e-07 - add_loss: 3.2510e-06\n",
      "Epoch 83/100\n",
      "10000/10000 [==============================] - 1s 62us/sample - loss: 4.2744e-06 - y_loss: 1.5670e-07 - add_loss: 2.7554e-06\n",
      "Epoch 84/100\n",
      "10000/10000 [==============================] - 1s 63us/sample - loss: 1.5742e-04 - y_loss: 2.0633e-05 - add_loss: 1.7941e-05\n",
      "Epoch 85/100\n",
      "10000/10000 [==============================] - 1s 66us/sample - loss: 8.4747e-05 - y_loss: 1.0690e-05 - add_loss: 1.1991e-05\n",
      "Epoch 86/100\n",
      "10000/10000 [==============================] - 1s 62us/sample - loss: 1.5636e-05 - y_loss: 1.6280e-06 - add_loss: 4.1406e-06\n",
      "Epoch 87/100\n",
      "10000/10000 [==============================] - 1s 64us/sample - loss: 1.3036e-05 - y_loss: 1.2993e-06 - add_loss: 3.7947e-06\n",
      "Epoch 88/100\n",
      "10000/10000 [==============================] - 1s 62us/sample - loss: 7.0630e-05 - y_loss: 9.0033e-06 - add_loss: 9.4712e-06\n",
      "Epoch 89/100\n",
      "10000/10000 [==============================] - 1s 62us/sample - loss: 2.9592e-04 - y_loss: 3.8990e-05 - add_loss: 3.2886e-05\n",
      "Epoch 90/100\n",
      "10000/10000 [==============================] - 1s 68us/sample - loss: 4.3261e-05 - y_loss: 5.4252e-06 - add_loss: 6.3054e-06\n",
      "Epoch 91/100\n",
      "10000/10000 [==============================] - ETA: 0s - loss: 2.5780e-05 - y_loss: 3.0835e-06 - add_loss: 4.6390e-06\n",
      "Epoch 00091: ReduceLROnPlateau reducing learning rate to 0.0005000000237487257.\n",
      "10000/10000 [==============================] - 1s 67us/sample - loss: 2.5780e-05 - y_loss: 3.0835e-06 - add_loss: 4.6390e-06\n",
      "Epoch 92/100\n",
      "10000/10000 [==============================] - 1s 71us/sample - loss: 5.1766e-06 - y_loss: 3.3948e-07 - add_loss: 2.4871e-06\n",
      "Epoch 93/100\n",
      "10000/10000 [==============================] - 1s 74us/sample - loss: 2.8190e-06 - y_loss: 3.8495e-08 - add_loss: 2.1752e-06\n",
      "Epoch 94/100\n",
      "10000/10000 [==============================] - 1s 78us/sample - loss: 2.8142e-06 - y_loss: 5.2898e-08 - add_loss: 2.0914e-06\n",
      "Epoch 95/100\n",
      "10000/10000 [==============================] - 1s 70us/sample - loss: 3.3789e-06 - y_loss: 1.0819e-07 - add_loss: 2.2731e-06\n",
      "Epoch 96/100\n",
      "10000/10000 [==============================] - 1s 67us/sample - loss: 5.5745e-06 - y_loss: 4.3132e-07 - add_loss: 2.3120e-06\n",
      "Epoch 97/100\n",
      "10000/10000 [==============================] - 1s 69us/sample - loss: 3.8215e-06 - y_loss: 2.0230e-07 - add_loss: 2.1135e-06\n",
      "Epoch 98/100\n",
      "10000/10000 [==============================] - 1s 72us/sample - loss: 3.1224e-05 - y_loss: 3.7937e-06 - add_loss: 5.2318e-06\n",
      "Epoch 99/100\n",
      "10000/10000 [==============================] - 1s 74us/sample - loss: 5.8732e-06 - y_loss: 5.1333e-07 - add_loss: 2.1114e-06\n",
      "Epoch 100/100\n",
      "10000/10000 [==============================] - 1s 70us/sample - loss: 3.8077e-06 - y_loss: 2.4780e-07 - add_loss: 1.8473e-06\n"
     ]
    }
   ],
   "source": [
    "# Training: .train runs the optimization and finds the parameters.\n",
    "history = model.train(\n",
    "    x_true,\n",
    "    [y_true, 'zeros'],\n",
    "    batch_size=32,\n",
    "    epochs=100,\n",
    "    adaptive_weights=True,\n",
    "    log_parameters=[d]\n",
    ")"
   ]
  },
  {
   "cell_type": "code",
   "execution_count": 3,
   "metadata": {},
   "outputs": [
    {
     "name": "stdout",
     "output_type": "stream",
     "text": [
      "Input and output dimensions need re-adjustment for post-processing.\n"
     ]
    }
   ],
   "source": [
    "# used to evaluate the model after the training.\n",
    "y_pred = y.eval(model, x_true)\n",
    "d_pred = d.eval(model, x_true)"
   ]
  },
  {
   "cell_type": "code",
   "execution_count": 22,
   "metadata": {},
   "outputs": [],
   "source": [
    "x_true = np.linspace(-1, 1+np.pi*2, 10000)\n",
    "result = model.predict(x_true)"
   ]
  },
  {
   "cell_type": "code",
   "execution_count": 23,
   "metadata": {},
   "outputs": [
    {
     "name": "stdout",
     "output_type": "stream",
     "text": [
      "[-0.46905985 -0.46916989 -0.46927946 ...  0.8416739   0.8421658\n",
      "  0.84265733]\n"
     ]
    }
   ],
   "source": [
    "print(result[0])"
   ]
  },
  {
   "cell_type": "code",
   "execution_count": 24,
   "metadata": {},
   "outputs": [
    {
     "data": {
      "text/plain": [
       "[<matplotlib.lines.Line2D at 0x18b302d0fd0>]"
      ]
     },
     "execution_count": 24,
     "metadata": {},
     "output_type": "execute_result"
    },
    {
     "data": {
      "image/png": "[encoded data removed]",
      "text/plain": [
       "<Figure size 432x288 with 1 Axes>"
      ]
     },
     "metadata": {
      "needs_background": "light"
     },
     "output_type": "display_data"
    }
   ],
   "source": [
    "plt.plot(x_true,result[0])"
   ]
  },
  {
   "cell_type": "code",
   "execution_count": 16,
   "metadata": {},
   "outputs": [],
   "source": [
    "\n",
    "x_test = np.linspace(0, np.pi*2, 50)\n",
    "'''\n",
    "for i in range(len(x_test)):\n",
    "    print(x_test[i],\" != \",x_true[i])\n",
    "    '''\n",
    "y_test = model.predict(x_test)\n",
    "#plt.plot(y_test[0],y_test[1])"
   ]
  },
  {
   "cell_type": "code",
   "execution_count": 17,
   "metadata": {},
   "outputs": [
    {
     "data": {
      "text/plain": [
       "[<matplotlib.lines.Line2D at 0x180facbbeb0>]"
      ]
     },
     "execution_count": 17,
     "metadata": {},
     "output_type": "execute_result"
    },
    {
     "data": {
      "image/png": "[encoded data removed]",
      "text/plain": [
       "<Figure size 432x288 with 1 Axes>"
      ]
     },
     "metadata": {
      "needs_background": "light"
     },
     "output_type": "display_data"
    }
   ],
   "source": [
    "plt.plot(x_true,y_true)"
   ]
  },
  {
   "cell_type": "code",
   "execution_count": 17,
   "metadata": {},
   "outputs": [],
   "source": [
    "#print(y.get_weights())\n",
    "#print(L)"
   ]
  },
  {
   "cell_type": "code",
   "execution_count": null,
   "metadata": {},
   "outputs": [],
   "source": []
  },
  {
   "cell_type": "code",
   "execution_count": null,
   "metadata": {},
   "outputs": [],
   "source": []
  }
 ],
 "metadata": {
  "kernelspec": {
   "display_name": "Python 3",
   "language": "python",
   "name": "python3"
  },
  "language_info": {
   "codemirror_mode": {
    "name": "ipython",
    "version": 3
   },
   "file_extension": ".py",
   "mimetype": "text/x-python",
   "name": "python",
   "nbconvert_exporter": "python",
   "pygments_lexer": "ipython3",
   "version": "3.8.5"
  }
 },
 "nbformat": 4,
 "nbformat_minor": 4
}
